{
  "cells": [
    {
      "cell_type": "code",
      "execution_count": 18,
      "metadata": {
        "colab": {
          "base_uri": "https://localhost:8080/"
        },
        "id": "Zr5jRd3Msllh",
        "outputId": "1c34d248-0dd8-4cfa-f552-45b508428787"
      },
      "outputs": [
        {
          "name": "stdout",
          "output_type": "stream",
          "text": [
            "Requirement already satisfied: cryptography>=43.0.1 in /usr/local/lib/python3.11/dist-packages (from auth0-python>=4.7.1->crewai) (43.0.3)\n",
            "Requirement already satisfied: pyjwt>=2.8.0 in /usr/local/lib/python3.11/dist-packages (from auth0-python>=4.7.1->crewai) (2.10.1)\n",
            "Requirement already satisfied: build>=1.0.3 in /usr/local/lib/python3.11/dist-packages (from chromadb>=0.5.23->crewai) (1.2.2.post1)\n",
            "Requirement already satisfied: fastapi==0.115.9 in /usr/local/lib/python3.11/dist-packages (from chromadb>=0.5.23->crewai) (0.115.9)\n",
            "Requirement already satisfied: uvicorn>=0.18.3 in /usr/local/lib/python3.11/dist-packages (from uvicorn[standard]>=0.18.3->chromadb>=0.5.23->crewai) (0.34.3)\n",
            "Requirement already satisfied: posthog>=2.4.0 in /usr/local/lib/python3.11/dist-packages (from chromadb>=0.5.23->crewai) (4.2.0)\n",
            "Requirement already satisfied: onnxruntime>=1.14.1 in /usr/local/lib/python3.11/dist-packages (from chromadb>=0.5.23->crewai) (1.22.0)\n",
            "Requirement already satisfied: opentelemetry-exporter-otlp-proto-grpc>=1.2.0 in /usr/local/lib/python3.11/dist-packages (from chromadb>=0.5.23->crewai) (1.33.1)\n",
            "Requirement already satisfied: opentelemetry-instrumentation-fastapi>=0.41b0 in /usr/local/lib/python3.11/dist-packages (from chromadb>=0.5.23->crewai) (0.54b1)\n",
            "Requirement already satisfied: pypika>=0.48.9 in /usr/local/lib/python3.11/dist-packages (from chromadb>=0.5.23->crewai) (0.48.9)\n",
            "Requirement already satisfied: overrides>=7.3.1 in /usr/local/lib/python3.11/dist-packages (from chromadb>=0.5.23->crewai) (7.7.0)\n",
            "Requirement already satisfied: importlib-resources in /usr/local/lib/python3.11/dist-packages (from chromadb>=0.5.23->crewai) (6.5.2)\n",
            "Requirement already satisfied: grpcio>=1.58.0 in /usr/local/lib/python3.11/dist-packages (from chromadb>=0.5.23->crewai) (1.71.0)\n",
            "Requirement already satisfied: bcrypt>=4.0.1 in /usr/local/lib/python3.11/dist-packages (from chromadb>=0.5.23->crewai) (4.3.0)\n",
            "Requirement already satisfied: typer>=0.9.0 in /usr/local/lib/python3.11/dist-packages (from chromadb>=0.5.23->crewai) (0.15.3)\n",
            "Requirement already satisfied: kubernetes>=28.1.0 in /usr/local/lib/python3.11/dist-packages (from chromadb>=0.5.23->crewai) (32.0.1)\n",
            "Requirement already satisfied: mmh3>=4.0.1 in /usr/local/lib/python3.11/dist-packages (from chromadb>=0.5.23->crewai) (5.1.0)\n",
            "Requirement already satisfied: orjson>=3.9.12 in /usr/local/lib/python3.11/dist-packages (from chromadb>=0.5.23->crewai) (3.10.18)\n",
            "Requirement already satisfied: rich>=10.11.0 in /usr/local/lib/python3.11/dist-packages (from chromadb>=0.5.23->crewai) (13.9.4)\n",
            "Requirement already satisfied: starlette<0.46.0,>=0.40.0 in /usr/local/lib/python3.11/dist-packages (from fastapi==0.115.9->chromadb>=0.5.23->crewai) (0.45.3)\n",
            "Requirement already satisfied: marshmallow<4.0.0,>=3.18.0 in /usr/local/lib/python3.11/dist-packages (from dataclasses-json<0.7,>=0.5.7->langchain-community) (3.26.1)\n",
            "Requirement already satisfied: typing-inspect<1,>=0.4.0 in /usr/local/lib/python3.11/dist-packages (from dataclasses-json<0.7,>=0.5.7->langchain-community) (0.9.0)\n",
            "Requirement already satisfied: anyio<5,>=3.5.0 in /usr/local/lib/python3.11/dist-packages (from groq<1,>=0.4.1->langchain-groq) (4.9.0)\n",
            "Requirement already satisfied: distro<2,>=1.7.0 in /usr/local/lib/python3.11/dist-packages (from groq<1,>=0.4.1->langchain-groq) (1.9.0)\n",
            "Requirement already satisfied: sniffio in /usr/local/lib/python3.11/dist-packages (from groq<1,>=0.4.1->langchain-groq) (1.3.1)\n",
            "Requirement already satisfied: docstring-parser<1.0,>=0.16 in /usr/local/lib/python3.11/dist-packages (from instructor>=1.3.3->crewai) (0.16)\n",
            "Requirement already satisfied: jiter<0.9,>=0.6.1 in /usr/local/lib/python3.11/dist-packages (from instructor>=1.3.3->crewai) (0.8.2)\n",
            "Requirement already satisfied: pydantic-core<3.0.0,>=2.18.0 in /usr/local/lib/python3.11/dist-packages (from instructor>=1.3.3->crewai) (2.33.2)\n",
            "Requirement already satisfied: langchain-text-splitters<1.0.0,>=0.3.8 in /usr/local/lib/python3.11/dist-packages (from langchain<1.0.0,>=0.3.25->langchain-community) (0.3.8)\n",
            "Requirement already satisfied: jsonpatch<2.0,>=1.33 in /usr/local/lib/python3.11/dist-packages (from langchain-core<1.0.0,>=0.3.49->langchain-groq) (1.33)\n",
            "Requirement already satisfied: pytest<9,>=7 in /usr/local/lib/python3.11/dist-packages (from langchain-tests<1.0.0,>=0.3.7->langchain-pinecone) (8.3.5)\n",
            "Requirement already satisfied: pytest-asyncio<1,>=0.20 in /usr/local/lib/python3.11/dist-packages (from langchain-tests<1.0.0,>=0.3.7->langchain-pinecone) (0.26.0)\n",
            "Requirement already satisfied: syrupy<5,>=4 in /usr/local/lib/python3.11/dist-packages (from langchain-tests<1.0.0,>=0.3.7->langchain-pinecone) (4.9.1)\n",
            "Requirement already satisfied: pytest-socket<1,>=0.6.0 in /usr/local/lib/python3.11/dist-packages (from langchain-tests<1.0.0,>=0.3.7->langchain-pinecone) (0.7.0)\n",
            "Requirement already satisfied: requests-toolbelt<2.0.0,>=1.0.0 in /usr/local/lib/python3.11/dist-packages (from langsmith<0.4,>=0.1.125->langchain-community) (1.0.0)\n",
            "Requirement already satisfied: zstandard<0.24.0,>=0.23.0 in /usr/local/lib/python3.11/dist-packages (from langsmith<0.4,>=0.1.125->langchain-community) (0.23.0)\n",
            "Requirement already satisfied: et-xmlfile in /usr/local/lib/python3.11/dist-packages (from openpyxl>=3.1.5->crewai) (2.0.0)\n",
            "Requirement already satisfied: deprecated>=1.2.6 in /usr/local/lib/python3.11/dist-packages (from opentelemetry-api>=1.30.0->crewai) (1.2.18)\n",
            "Requirement already satisfied: googleapis-common-protos~=1.52 in /usr/local/lib/python3.11/dist-packages (from opentelemetry-exporter-otlp-proto-http>=1.30.0->crewai) (1.70.0)\n",
            "Requirement already satisfied: opentelemetry-exporter-otlp-proto-common==1.33.1 in /usr/local/lib/python3.11/dist-packages (from opentelemetry-exporter-otlp-proto-http>=1.30.0->crewai) (1.33.1)\n",
            "Requirement already satisfied: opentelemetry-proto==1.33.1 in /usr/local/lib/python3.11/dist-packages (from opentelemetry-exporter-otlp-proto-http>=1.30.0->crewai) (1.33.1)\n",
            "Requirement already satisfied: protobuf<6.0,>=5.0 in /usr/local/lib/python3.11/dist-packages (from opentelemetry-proto==1.33.1->opentelemetry-exporter-otlp-proto-http>=1.30.0->crewai) (5.29.4)\n",
            "Requirement already satisfied: opentelemetry-semantic-conventions==0.54b1 in /usr/local/lib/python3.11/dist-packages (from opentelemetry-sdk>=1.30.0->crewai) (0.54b1)\n",
            "Requirement already satisfied: pdfminer.six==20250327 in /usr/local/lib/python3.11/dist-packages (from pdfplumber>=0.11.4->crewai) (20250327)\n",
            "Requirement already satisfied: Pillow>=9.1 in /usr/local/lib/python3.11/dist-packages (from pdfplumber>=0.11.4->crewai) (11.2.1)\n",
            "Requirement already satisfied: pypdfium2>=4.18.0 in /usr/local/lib/python3.11/dist-packages (from pdfplumber>=0.11.4->crewai) (4.30.1)\n",
            "Requirement already satisfied: charset-normalizer>=2.0.0 in /usr/local/lib/python3.11/dist-packages (from pdfminer.six==20250327->pdfplumber>=0.11.4->crewai) (3.4.2)\n",
            "\u001b[33mWARNING: pinecone 6.0.2 does not provide the extra 'async'\u001b[0m\u001b[33m\n",
            "\u001b[0mRequirement already satisfied: annotated-types>=0.6.0 in /usr/local/lib/python3.11/dist-packages (from pydantic>=2.4.2->crewai) (0.7.0)\n",
            "Requirement already satisfied: typing-inspection>=0.4.0 in /usr/local/lib/python3.11/dist-packages (from pydantic>=2.4.2->crewai) (0.4.1)\n",
            "Requirement already satisfied: six>=1.5 in /usr/local/lib/python3.11/dist-packages (from python-dateutil>=2.5.3->pinecone-client) (1.17.0)\n",
            "Requirement already satisfied: ipython>=5.3.0 in /usr/local/lib/python3.11/dist-packages (from pyvis>=0.3.2->crewai) (7.34.0)\n",
            "Requirement already satisfied: jsonpickle>=1.4.1 in /usr/local/lib/python3.11/dist-packages (from pyvis>=0.3.2->crewai) (4.1.0)\n",
            "Requirement already satisfied: networkx>=1.11 in /usr/local/lib/python3.11/dist-packages (from pyvis>=0.3.2->crewai) (3.4.2)\n",
            "Requirement already satisfied: idna<4,>=2.5 in /usr/local/lib/python3.11/dist-packages (from requests<3,>=2->langchain-community) (3.10)\n",
            "Requirement already satisfied: greenlet>=1 in /usr/local/lib/python3.11/dist-packages (from SQLAlchemy<3,>=1.4->langchain-community) (3.2.2)\n",
            "Requirement already satisfied: pyproject_hooks in /usr/local/lib/python3.11/dist-packages (from build>=1.0.3->chromadb>=0.5.23->crewai) (1.2.0)\n",
            "Requirement already satisfied: cffi>=1.12 in /usr/local/lib/python3.11/dist-packages (from cryptography>=43.0.1->auth0-python>=4.7.1->crewai) (1.17.1)\n",
            "Requirement already satisfied: wrapt<2,>=1.10 in /usr/local/lib/python3.11/dist-packages (from deprecated>=1.2.6->opentelemetry-api>=1.30.0->crewai) (1.17.2)\n",
            "Requirement already satisfied: asgiref~=3.0 in /usr/local/lib/python3.11/dist-packages (from opentelemetry-instrumentation-asgi==0.54b1->opentelemetry-instrumentation-fastapi>=0.41b0->chromadb>=0.5.23->crewai) (3.8.1)\n",
            "Requirement already satisfied: backoff>=1.10.0 in /usr/local/lib/python3.11/dist-packages (from posthog>=2.4.0->chromadb>=0.5.23->crewai) (2.2.1)\n",
            "Requirement already satisfied: iniconfig in /usr/local/lib/python3.11/dist-packages (from pytest<9,>=7->langchain-tests<1.0.0,>=0.3.7->langchain-pinecone) (2.1.0)\n",
            "Requirement already satisfied: pluggy<2,>=1.5 in /usr/local/lib/python3.11/dist-packages (from pytest<9,>=7->langchain-tests<1.0.0,>=0.3.7->langchain-pinecone) (1.6.0)\n",
            "Requirement already satisfied: pycparser in /usr/local/lib/python3.11/dist-packages (from cffi>=1.12->cryptography>=43.0.1->auth0-python>=4.7.1->crewai) (2.22)\n",
            "Requirement already satisfied: cachetools<6.0,>=2.0.0 in /usr/local/lib/python3.11/dist-packages (from google-auth>=1.0.1->kubernetes>=28.1.0->chromadb>=0.5.23->crewai) (5.5.2)\n",
            "Requirement already satisfied: pyasn1-modules>=0.2.1 in /usr/local/lib/python3.11/dist-packages (from google-auth>=1.0.1->kubernetes>=28.1.0->chromadb>=0.5.23->crewai) (0.4.2)\n",
            "Requirement already satisfied: rsa<5,>=3.1.4 in /usr/local/lib/python3.11/dist-packages (from google-auth>=1.0.1->kubernetes>=28.1.0->chromadb>=0.5.23->crewai) (4.9.1)\n",
            "Requirement already satisfied: parso<0.9.0,>=0.8.4 in /usr/local/lib/python3.11/dist-packages (from jedi>=0.16->ipython>=5.3.0->pyvis>=0.3.2->crewai) (0.8.4)\n",
            "Requirement already satisfied: mdurl~=0.1 in /usr/local/lib/python3.11/dist-packages (from markdown-it-py>=2.2.0->rich>=10.11.0->chromadb>=0.5.23->crewai) (0.1.2)\n",
            "Requirement already satisfied: ptyprocess>=0.5 in /usr/local/lib/python3.11/dist-packages (from pexpect>4.3->ipython>=5.3.0->pyvis>=0.3.2->crewai) (0.7.0)\n",
            "Requirement already satisfied: wcwidth in /usr/local/lib/python3.11/dist-packages (from prompt-toolkit!=3.0.0,!=3.0.1,<3.1.0,>=2.0.0->ipython>=5.3.0->pyvis>=0.3.2->crewai) (0.2.13)\n",
            "Requirement already satisfied: humanfriendly>=9.1 in /usr/local/lib/python3.11/dist-packages (from coloredlogs->onnxruntime>=1.14.1->chromadb>=0.5.23->crewai) (10.0)\n",
            "Requirement already satisfied: mpmath<1.4,>=1.1.0 in /usr/local/lib/python3.11/dist-packages (from sympy->onnxruntime>=1.14.1->chromadb>=0.5.23->crewai) (1.3.0)\n",
            "Requirement already satisfied: pyasn1<0.7.0,>=0.6.1 in /usr/local/lib/python3.11/dist-packages (from pyasn1-modules>=0.2.1->google-auth>=1.0.1->kubernetes>=28.1.0->chromadb>=0.5.23->crewai) (0.6.1)\n"
          ]
        }
      ],
      "source": [
        "pip install crewai langchain-groq langchain-community langchain-pinecone pinecone-client huggingface-hub"
      ]
    },
    {
      "cell_type": "code",
      "execution_count": 19,
      "metadata": {
        "id": "dwjofWhKsoXi"
      },
      "outputs": [],
      "source": [
        "import os\n",
        "from crewai import Agent, Task, Crew\n",
        "from langchain_groq import ChatGroq\n",
        "from langchain_community.embeddings import HuggingFaceEmbeddings\n",
        "from langchain_pinecone import PineconeVectorStore\n",
        "from pinecone import Pinecone as PineconeClient"
      ]
    },
    {
      "cell_type": "code",
      "execution_count": null,
      "metadata": {
        "id": "2LaMYYXvssvE"
      },
      "outputs": [],
      "source": [
        "\n",
        "# Set API keys\n",
        "os.environ[\"GROQ_API_KEY\"] = \"api pls :)\"  # Replace with your Groq API key\n",
        "os.environ[\"PINECONE_API_KEY\"] = \"Your api pls ;)\"  # Replace with your Pinecone API key\n"
      ]
    },
    {
      "cell_type": "code",
      "execution_count": 21,
      "metadata": {
        "id": "TVSkkxlMsz7z"
      },
      "outputs": [],
      "source": [
        "# Initialize Pinecone\n",
        "pc = PineconeClient(api_key=os.environ[\"PINECONE_API_KEY\"])\n",
        "index_name = \"crewai-memory\"\n",
        "if index_name not in pc.list_indexes().names():\n",
        "    pc.create_index(\n",
        "        name=index_name,\n",
        "        dimension=384,\n",
        "        metric=\"cosine\",\n",
        "        spec=ServerlessSpec(cloud=\"aws\", region=\"us-east-1\")\n",
        "    )\n",
        "index = pc.Index(index_name)"
      ]
    },
    {
      "cell_type": "code",
      "execution_count": 22,
      "metadata": {
        "id": "GjtEdMJSs3as"
      },
      "outputs": [],
      "source": [
        "# Initialize embeddings (no Hugging Face API key needed)\n",
        "embeddings = HuggingFaceEmbeddings(model_name=\"sentence-transformers/all-MiniLM-L6-v2\")\n"
      ]
    },
    {
      "cell_type": "code",
      "execution_count": 23,
      "metadata": {
        "id": "BEqD-39as7FV"
      },
      "outputs": [],
      "source": [
        "# Initialize Groq LLM (LLaMA 3.1 70B)\n",
        "llm = ChatGroq(model=\"groq/llama3-70b-8192\", api_key=os.environ[\"GROQ_API_KEY\"])"
      ]
    },
    {
      "cell_type": "code",
      "execution_count": 17,
      "metadata": {
        "id": "napVMNNMupiu"
      },
      "outputs": [],
      "source": [
        "# Initialize Pinecone vector store for memory\n",
        "memory_store = PineconeVectorStore(index_name=index_name, embedding=embeddings, pinecone_api_key=os.environ[\"PINECONE_API_KEY\"], text_key=\"text\")"
      ]
    },
    {
      "cell_type": "code",
      "execution_count": 35,
      "metadata": {
        "id": "wGuy6mxps9dh"
      },
      "outputs": [],
      "source": [
        "# Define support agent\n",
        "support_agent = Agent(\n",
        "    role=\"Customer Support\",\n",
        "    goal=\"Resolve customer inquiries efficiently\",\n",
        "    backstory=\"Expert in e-commerce queries with 5 years of experience\",\n",
        "    memory=True,\n",
        "    max_rpm=100,\n",
        "    llm=llm\n",
        ")"
      ]
    },
    {
      "cell_type": "code",
      "execution_count": 36,
      "metadata": {
        "id": "syfTHxbytCSR"
      },
      "outputs": [],
      "source": [
        "# Define task\n",
        "task = Task(\n",
        "    description=\"Answer a customer query about a delayed shipment: 'My order #12345 is delayed. Where is it ?'\",\n",
        "    expected_output=\"A polite, accurate response addressing the delay and providing an estimated delivery date\",\n",
        "    agent=support_agent\n",
        ")\n"
      ]
    },
    {
      "cell_type": "code",
      "execution_count": 37,
      "metadata": {
        "colab": {
          "base_uri": "https://localhost:8080/"
        },
        "id": "HoQycXjDtEGX",
        "outputId": "5c171c7c-8f4d-4fc8-cb82-a771cd4c70ea"
      },
      "outputs": [
        {
          "name": "stderr",
          "output_type": "stream",
          "text": [
            "ERROR:root:Error during short_term search: Request URL is missing an 'http://' or 'https://' protocol. in query.\n",
            "ERROR:root:Error during entities search: Request URL is missing an 'http://' or 'https://' protocol. in query.\n",
            "ERROR:root:Error during short_term save: Request URL is missing an 'http://' or 'https://' protocol. in add.\n",
            "ERROR:root:Error during entities save: Request URL is missing an 'http://' or 'https://' protocol. in add.\n",
            "ERROR:root:Error during entities save: Request URL is missing an 'http://' or 'https://' protocol. in add.\n",
            "ERROR:root:Error during entities save: Request URL is missing an 'http://' or 'https://' protocol. in add.\n"
          ]
        }
      ],
      "source": [
        "# Create and execute crew with Pinecone memory\n",
        "crew = Crew(\n",
        "    agents=[support_agent],\n",
        "    tasks=[task],\n",
        "    memory=True,\n",
        "    embedder={\"provider\": \"huggingface\", \"config\": {\"model\": \"sentence-transformers/all-MiniLM-L6-v2\"}},\n",
        "    vector_store=memory_store\n",
        ")\n",
        "result = crew.kickoff()"
      ]
    },
    {
      "cell_type": "code",
      "execution_count": 38,
      "metadata": {
        "colab": {
          "base_uri": "https://localhost:8080/"
        },
        "id": "W_emoDU4oTOW",
        "outputId": "bd61a964-dc85-4a7d-c54d-4979287ed46e"
      },
      "outputs": [
        {
          "name": "stdout",
          "output_type": "stream",
          "text": [
            "Response: Hi Talha,\n",
            "\n",
            "I'm so sorry to hear that your shipment has been delayed. I understand how frustrating it can be to wait for your order, and I'm here to help.\n",
            "\n",
            "Firstly, I want to assure you that we're doing everything in our power to get your order to you as soon as possible. Our estimated delivery date for your order is now [insert estimated delivery date]. You can be sure that we're working hard to get it to you by then.\n",
            "\n",
            "In the meantime, I'd like to offer you a gesture of goodwill for the inconvenience caused. We value your patience and loyalty, and we want to make things right. If there's anything else we can do to make up for the delay, please don't hesitate to let us know.\n",
            "\n",
            "If you have any further questions or concerns, please don't hesitate to reach out to me directly. You can reply to this email, or give me a call at [insert direct contact number]. I'll be more than happy to assist you in any way I can.\n",
            "\n",
            "Once again, I apologize for the delay and appreciate your understanding in this matter.\n",
            "\n",
            "Best regards,\n",
            "[Your Name]\n",
            "Customer Support\n"
          ]
        }
      ],
      "source": [
        "print(\"Response:\", result)"
      ]
    },
    {
      "cell_type": "markdown",
      "metadata": {
        "id": "puMnIPLJv_tS"
      },
      "source": [
        "![image.png](data:image/png;base64,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)"
      ]
    },
    {
      "cell_type": "code",
      "execution_count": null,
      "metadata": {
        "id": "1FnbOJjlu9MO"
      },
      "outputs": [],
      "source": []
    }
  ],
  "metadata": {
    "accelerator": "GPU",
    "colab": {
      "gpuType": "T4",
      "provenance": []
    },
    "kernelspec": {
      "display_name": "Python 3",
      "name": "python3"
    },
    "language_info": {
      "name": "python"
    }
  },
  "nbformat": 4,
  "nbformat_minor": 0
}
